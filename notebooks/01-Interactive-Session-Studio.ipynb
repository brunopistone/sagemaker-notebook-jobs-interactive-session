{
 "cells": [
  {
   "cell_type": "markdown",
   "id": "236c7240-aaf2-4a94-99b6-8104fd1c8388",
   "metadata": {
    "pycharm": {
     "name": "#%% md\n"
    },
    "tags": []
   },
   "source": [
    "# Probabilistic Forecasting - Electricity\n",
    "\n",
    "This notebook demonstrates how to perform Data Analysis and Preparation Engineering with Amazon SageMaker Studio using AWS Glue Interactive Session.\n",
    "\n",
    "Using this notebook, we can execute cells in order to read data, visualize, and perform transformations using PySpark with AWS Glue Interactice Session.\n",
    "\n",
    "Let's start preparing our dataset.\n",
    "\n",
    "**SageMaker Studio Kernel**: SparkAnalytics 2.0 - Glue PySpark"
   ]
  },
  {
   "cell_type": "markdown",
   "id": "12b9e03b-2bdc-42ee-a936-bb22ea1dde92",
   "metadata": {
    "pycharm": {
     "name": "#%% md\n"
    }
   },
   "source": [
    "***"
   ]
  },
  {
   "cell_type": "markdown",
   "id": "f8973698-e189-4ae0-b691-307b6039905d",
   "metadata": {
    "pycharm": {
     "name": "#%% md\n"
    }
   },
   "source": [
    "# Dataset\n",
    "\n",
    "The data set (Electricity Price Forecasting) was downloaded from [Kaggle](https://www.kaggle.com/code/dimitriosroussis/electricity-price-forecasting-with-dnns-eda/data).\n",
    "This dataset is using the past values of the electricity price as well as those of another features related to energy generation and weather conditions"
   ]
  },
  {
   "cell_type": "markdown",
   "id": "6fe84b49-d52c-42a8-96b6-6f72ddfeb512",
   "metadata": {
    "pycharm": {
     "name": "#%% md\n"
    }
   },
   "source": [
    "***"
   ]
  },
  {
   "cell_type": "markdown",
   "id": "060f77e2-5058-410c-9d4b-04092f6df110",
   "metadata": {},
   "source": [
    "# Step 1 - Start Glue interactive session\n",
    "\n",
    "Let's define the AWS Glue Interactive session, by using Magics command. A full list of commands can be explored by running `%help` command."
   ]
  },
  {
   "cell_type": "code",
   "execution_count": null,
   "id": "36290c3b-2561-4c42-8c57-c9bb8516238c",
   "metadata": {
    "tags": []
   },
   "outputs": [],
   "source": [
    "%session_id_prefix ts-electricity-forecasting-\n",
    "%glue_version 3.0\n",
    "%idle_timeout 60\n",
    "%%configure \n",
    "{\n",
    "    \"--enable-spark-ui\": \"true\",\n",
    "    \"--spark-event-logs-path\": \"s3://<BUCKET_NAME>/<BUCKET_PREFIX>/logs/\"\n",
    "}"
   ]
  },
  {
   "cell_type": "markdown",
   "id": "1d8d74e6-7c69-4d4c-87bd-413cc5d0e064",
   "metadata": {},
   "source": [
    "By running this cell, we are creating an AWS Glue Interactive session."
   ]
  },
  {
   "cell_type": "code",
   "execution_count": null,
   "id": "6df610b5-3aa9-4d99-a01a-284a3c02e1bf",
   "metadata": {
    "tags": []
   },
   "outputs": [],
   "source": [
    "catalog_name = \"\"\n",
    "bucket_name = \"\"\n",
    "bucket_prefix = \"\"\n",
    "database_name = \"\"\n",
    "table_name = \"electricity\""
   ]
  },
  {
   "cell_type": "markdown",
   "id": "00ab1eaf-5350-48be-8840-97e1720ad29d",
   "metadata": {},
   "source": [
    "***"
   ]
  },
  {
   "cell_type": "markdown",
   "id": "0124a219-a0ae-44bf-b697-f3ca60accf88",
   "metadata": {
    "pycharm": {
     "name": "#%% md\n"
    }
   },
   "source": [
    "# Step 2 - Import Modules"
   ]
  },
  {
   "cell_type": "code",
   "execution_count": null,
   "id": "c30f0cdb-17b1-4ba0-abad-45eb73779cf2",
   "metadata": {
    "pycharm": {
     "name": "#%%\n"
    },
    "tags": []
   },
   "outputs": [],
   "source": [
    "import boto3\n",
    "import csv\n",
    "import logging\n",
    "import matplotlib.pyplot as plt\n",
    "import numpy as np\n",
    "import pandas as pd\n",
    "from pyspark.sql import SparkSession\n",
    "import pyspark.sql.functions as F\n",
    "from pyspark.sql.functions import pandas_udf\n",
    "from pyspark.sql.types import DoubleType, TimestampType\n",
    "import seaborn as sns"
   ]
  },
  {
   "cell_type": "code",
   "execution_count": null,
   "id": "f2ff3720-1d69-489d-8e47-f4a3e248e4ef",
   "metadata": {
    "pycharm": {
     "name": "#%%\n"
    },
    "tags": []
   },
   "outputs": [],
   "source": [
    "logging.basicConfig(level=logging.INFO)\n",
    "logger = logging.getLogger(__name__)"
   ]
  },
  {
   "cell_type": "code",
   "execution_count": null,
   "id": "61c7f97a-1252-4de0-a307-cb76b96dda8e",
   "metadata": {
    "tags": []
   },
   "outputs": [],
   "source": [
    "pd.set_option(\"display.max_columns\", None)"
   ]
  },
  {
   "cell_type": "code",
   "execution_count": null,
   "id": "b5da78cf-351d-4dab-a4c5-f62c97bd8d14",
   "metadata": {
    "tags": []
   },
   "outputs": [],
   "source": [
    "spark = SparkSession.builder \\\n",
    "    .config(\"spark.sql.legacy.timeParserPolicy\", \"CORRECTED\") \\\n",
    "    .getOrCreate()"
   ]
  },
  {
   "cell_type": "markdown",
   "id": "bc8977fa-db6f-45c5-ad0b-b2ea81f9b81d",
   "metadata": {
    "pycharm": {
     "name": "#%% md\n"
    }
   },
   "source": [
    "***"
   ]
  },
  {
   "cell_type": "markdown",
   "id": "53d03a27-9f4a-4701-bb70-7357a65782d5",
   "metadata": {},
   "source": [
    "# Step 3 - Data Preparation"
   ]
  },
  {
   "cell_type": "markdown",
   "id": "b593cbca-3068-4c96-9246-fb8b5939ebef",
   "metadata": {},
   "source": [
    "## Electricity Dataset"
   ]
  },
  {
   "cell_type": "code",
   "execution_count": null,
   "id": "6a731191-30ec-4f98-8ab0-19b4300accc0",
   "metadata": {
    "tags": []
   },
   "outputs": [],
   "source": [
    "df_e = spark.read.csv(\n",
    "    f\"s3://{bucket_name}/{bucket_prefix}/data/input/energy_dataset.csv\",\n",
    "    header=True\n",
    ")"
   ]
  },
  {
   "cell_type": "code",
   "execution_count": null,
   "id": "8d92b504-bc11-4695-becd-404885d9dc45",
   "metadata": {
    "tags": []
   },
   "outputs": [],
   "source": [
    "df_e.show(10)"
   ]
  },
  {
   "cell_type": "code",
   "execution_count": null,
   "id": "57506725-174b-4e49-a573-68c8fd89d53a",
   "metadata": {
    "tags": []
   },
   "outputs": [],
   "source": [
    "df_e = df_e.withColumn(\"time\", F.to_timestamp(\"time\", \"yyyy-MM-dd HH:mm:ssVV\"))"
   ]
  },
  {
   "cell_type": "code",
   "execution_count": null,
   "id": "a5ee32f9-68d8-4fe6-9ca5-c3ed6ab72938",
   "metadata": {
    "tags": []
   },
   "outputs": [],
   "source": [
    "columns_to_drop = [\n",
    "    'generation fossil coal-derived gas','generation fossil oil shale',\n",
    "    'generation fossil peat',\n",
    "    'generation geothermal',\n",
    "    'generation hydro pumped storage aggregated',\n",
    "    'generation marine',\n",
    "    'generation wind offshore',\n",
    "    'forecast wind offshore eday ahead',\n",
    "    'total load forecast',\n",
    "    'forecast solar day ahead',\n",
    "    'forecast wind onshore day ahead']\n",
    "\n",
    "df_e = df_e.drop(*columns_to_drop)"
   ]
  },
  {
   "cell_type": "markdown",
   "id": "95987f30-f3d0-46dc-8fc1-4331848c1ffe",
   "metadata": {},
   "source": [
    "### Round all floats to a two decimal place"
   ]
  },
  {
   "cell_type": "code",
   "execution_count": null,
   "id": "1de95033-f1b6-49f9-bed5-970a8d1e7f47",
   "metadata": {},
   "outputs": [],
   "source": [
    "for column in df_e.schema.names:\n",
    "    if column != \"time\":\n",
    "        df_e = df_e.withColumn(column, df_e[column].cast(DoubleType()))\n",
    "        df_e = df_e.withColumn(column, F.round(F.col(column), 2))"
   ]
  },
  {
   "cell_type": "code",
   "execution_count": null,
   "id": "b7ff41d7-fc4c-4aea-a477-d851edad56a8",
   "metadata": {
    "tags": []
   },
   "outputs": [],
   "source": [
    "df_e.schema"
   ]
  },
  {
   "cell_type": "markdown",
   "id": "20a75d07-7ea5-481a-bef7-6c4b51a6ec2f",
   "metadata": {},
   "source": [
    "### Check NaN and duplicate values in the dataset"
   ]
  },
  {
   "cell_type": "code",
   "execution_count": null,
   "id": "57bc05a6-45a5-40fd-af28-19f429745e96",
   "metadata": {
    "scrolled": true,
    "tags": []
   },
   "outputs": [],
   "source": [
    "df_e \\\n",
    ".select([F.count(F.when(F.isnan(c) | F.col(c).isNull(), c)).alias(c) for c in df_e.schema.names if c != \"time\"]) \\\n",
    ".toPandas()"
   ]
  },
  {
   "cell_type": "markdown",
   "id": "1bddcc38-561a-49f8-b401-8dcc406397f8",
   "metadata": {},
   "source": [
    "In order to fill Null values in our energy demand distribution, we are using a linear interpolation."
   ]
  },
  {
   "cell_type": "code",
   "execution_count": null,
   "id": "928a6160-042a-4de7-9c21-b749a4e740ad",
   "metadata": {
    "tags": []
   },
   "outputs": [],
   "source": [
    "def interpolate(pdf):\n",
    "    pdf = pdf.set_index('time')\n",
    "    pdf.interpolate(method='linear', limit_direction='forward', inplace=True, axis=0)\n",
    "    pdf.reset_index(inplace=True)\n",
    "    return pdf"
   ]
  },
  {
   "cell_type": "code",
   "execution_count": null,
   "id": "4bfe3b37-417b-4f3e-bc72-a9da61faa32b",
   "metadata": {
    "tags": []
   },
   "outputs": [],
   "source": [
    "df_e_p = df_e.toPandas()\n",
    "df_e_p = interpolate(df_e_p)\n",
    "df_e = spark.createDataFrame(df_e_p)"
   ]
  },
  {
   "cell_type": "code",
   "execution_count": null,
   "id": "bd525a70-e9f3-429b-86f3-dab132896d91",
   "metadata": {
    "tags": []
   },
   "outputs": [],
   "source": [
    "print((df_e.count(), len(df_e.columns)))"
   ]
  },
  {
   "cell_type": "markdown",
   "id": "0571f06f-9ca0-4b4f-870f-95fc1a9b96a6",
   "metadata": {},
   "source": [
    "## Weather Dataset"
   ]
  },
  {
   "cell_type": "code",
   "execution_count": null,
   "id": "901bee96-a81b-42ab-a1b5-e86744087561",
   "metadata": {},
   "outputs": [],
   "source": [
    "df_w = spark.read.csv(\n",
    "    f\"s3://{bucket_name}/{bucket_prefix}/data/input/weather_features.csv\",\n",
    "    header=True\n",
    ")"
   ]
  },
  {
   "cell_type": "code",
   "execution_count": null,
   "id": "cb11dcf1-748c-472a-a80f-551f8f8cb7cd",
   "metadata": {
    "tags": []
   },
   "outputs": [],
   "source": [
    "df_w.schema"
   ]
  },
  {
   "cell_type": "markdown",
   "id": "d0b6bf39-5538-464a-9e62-21b7eaa03353",
   "metadata": {},
   "source": [
    "Change column types to Double/Float"
   ]
  },
  {
   "cell_type": "code",
   "execution_count": null,
   "id": "2ef986aa-a23e-4393-8d78-771e2b48d1b5",
   "metadata": {
    "tags": []
   },
   "outputs": [],
   "source": [
    "columns = [\"city_name\", \"weather_id\", \"weather_main\", \"weather_description\", \"weather_icon\", \"dt_iso\"]\n",
    "\n",
    "for c in df_w.columns:\n",
    "    if c not in columns:\n",
    "        df_w = df_w.withColumn(c, df_w[c].cast(DoubleType()))"
   ]
  },
  {
   "cell_type": "code",
   "execution_count": null,
   "id": "1f135afa-4c6f-4442-b71b-e5aaa909c0ad",
   "metadata": {
    "tags": []
   },
   "outputs": [],
   "source": [
    "df_w = df_w.withColumn(\"time\", F.to_timestamp(\"dt_iso\", \"yyyy-MM-dd HH:mm:ssVV\"))"
   ]
  },
  {
   "cell_type": "code",
   "execution_count": null,
   "id": "d8c19298-d815-4fe3-b6e9-2a2416ba8d36",
   "metadata": {
    "tags": []
   },
   "outputs": [],
   "source": [
    "df_w = df_w.drop(\"dt_iso\")"
   ]
  },
  {
   "cell_type": "markdown",
   "id": "e19eb36d-b1ed-4438-8529-c5398ee22e79",
   "metadata": {},
   "source": [
    "Now let's remove duplicates"
   ]
  },
  {
   "cell_type": "code",
   "execution_count": null,
   "id": "ce48fdb7-8638-4ea0-adf2-f06600d2d8c0",
   "metadata": {
    "tags": []
   },
   "outputs": [],
   "source": [
    "df_w.distinct().groupby(\"city_name\").count().show()"
   ]
  },
  {
   "cell_type": "code",
   "execution_count": null,
   "id": "40ae9f33-d9f0-462c-aecb-9d2d23253e15",
   "metadata": {
    "tags": []
   },
   "outputs": [],
   "source": [
    "df_w = df_w.orderBy(\"time\").coalesce(1).dropDuplicates(subset = [\"city_name\", \"time\"])"
   ]
  },
  {
   "cell_type": "code",
   "execution_count": null,
   "id": "3b73c149-92fb-4ea5-847a-43283fbffe5b",
   "metadata": {
    "tags": []
   },
   "outputs": [],
   "source": [
    "df_w.distinct().groupby(\"city_name\").count().show()"
   ]
  },
  {
   "cell_type": "markdown",
   "id": "87c8ae61-3189-4d4c-9c1d-37b324e48729",
   "metadata": {},
   "source": [
    "Finally, let's join the two datasets"
   ]
  },
  {
   "cell_type": "code",
   "execution_count": null,
   "id": "a7f3ac0d-b69b-40ae-a1cb-036117ba9fb2",
   "metadata": {
    "tags": []
   },
   "outputs": [],
   "source": [
    "df_w_barcelona = df_w.filter(F.col(\"city_name\") == \" Barcelona\")\n",
    "df_w_bilbao = df_w.filter(F.col(\"city_name\") == \"Bilbao\")\n",
    "df_w_madrid = df_w.filter(F.col(\"city_name\") == \"Madrid\")\n",
    "df_w_seville = df_w.filter(F.col(\"city_name\") == \"Seville\")\n",
    "df_w_valencia = df_w.filter(F.col(\"city_name\") == \"Valencia\")\n",
    "\n",
    "df_w_barcelona = df_w_barcelona.select([F.col(c).alias(c + \"_barcelona\") for c in df_w_barcelona.columns]).drop(\"city_name_barcelona\")\n",
    "df_w_bilbao = df_w_bilbao.select([F.col(c).alias(c + \"_bilbao\") for c in df_w_bilbao.columns]).drop(\"city_name_bilbao\")\n",
    "df_w_madrid = df_w_madrid.select([F.col(c).alias(c + \"_madrid\") for c in df_w_madrid.columns]).drop(\"city_name_madrid\")\n",
    "df_w_seville = df_w_seville.select([F.col(c).alias(c + \"_seville\") for c in df_w_seville.columns]).drop(\"city_name_seville\")\n",
    "df_w_valencia = df_w_valencia.select([F.col(c).alias(c + \"_valencia\") for c in df_w_valencia.columns]).drop(\"city_name_valencia\")"
   ]
  },
  {
   "cell_type": "code",
   "execution_count": null,
   "id": "8a51cdeb-b095-46e5-ac14-f49855b15248",
   "metadata": {
    "tags": []
   },
   "outputs": [],
   "source": [
    "df_final = df_e.join(df_w_barcelona, df_e.time == df_w_barcelona.time_barcelona, how='full').drop(\"time_barcelona\")\n",
    "df_final = df_final.join(df_w_bilbao, df_e.time == df_w_bilbao.time_bilbao, how='full').drop(\"time_bilbao\")\n",
    "df_final = df_final.join(df_w_madrid, df_e.time == df_w_madrid.time_madrid, how='full').drop(\"time_madrid\")\n",
    "df_final = df_final.join(df_w_seville, df_e.time == df_w_seville.time_seville, how='full').drop(\"time_seville\")\n",
    "df_final = df_final.join(df_w_valencia, df_e.time == df_w_valencia.time_valencia, how='full').drop(\"time_valencia\")"
   ]
  },
  {
   "cell_type": "code",
   "execution_count": null,
   "id": "f2f79a09-b654-4fb6-9502-58e489a7fdaf",
   "metadata": {
    "tags": []
   },
   "outputs": [],
   "source": [
    "df_final.show(1)"
   ]
  },
  {
   "cell_type": "code",
   "execution_count": null,
   "id": "6ec2520e-f19e-4336-aeed-2b034a8f8605",
   "metadata": {
    "tags": []
   },
   "outputs": [],
   "source": [
    "print((df_final.count(), len(df_final.columns)))"
   ]
  },
  {
   "cell_type": "markdown",
   "id": "583de558-0cc1-4c61-bec4-208c016893b5",
   "metadata": {
    "tags": []
   },
   "source": [
    "# Step 4 - Write CSV"
   ]
  },
  {
   "cell_type": "code",
   "execution_count": null,
   "id": "00c1a1ae-4ff5-4994-b541-297322effe09",
   "metadata": {},
   "outputs": [],
   "source": [
    "df_final.repartition(1).write \\\n",
    "    .format(\"com.databricks.spark.csv\") \\\n",
    "    .mode('overwrite') \\\n",
    "    .option(\"quote\", '\"') \\\n",
    "    .option(\"header\", True) \\\n",
    "    .option(\"sep\", \",\") \\\n",
    "    .option('encoding', 'UTF-8') \\\n",
    "    .save(f\"s3://{bucket_name}/{bucket_prefix}/data/output/electricity_full\",)"
   ]
  },
  {
   "cell_type": "markdown",
   "id": "394a8755-b470-4fd1-982e-21c452c08f19",
   "metadata": {},
   "source": [
    "# Step 5 - Stop Session"
   ]
  },
  {
   "cell_type": "code",
   "execution_count": null,
   "id": "98c7e3fa-397b-4a1d-abe1-67f8bd4fcedb",
   "metadata": {
    "id": "539c31ae-9c97-46da-8bb6-cdface9758a4",
    "outputId": "7e048cbf-f37a-45d2-87f0-221c3f61a529",
    "vscode": {
     "languageId": "python_glue_session"
    }
   },
   "outputs": [],
   "source": [
    "%stop_session"
   ]
  }
 ],
 "metadata": {
  "forced_instance_type": "ml.t3.medium",
  "forced_lcc_arn": "",
  "instance_type": "ml.t3.medium",
  "kernelspec": {
   "display_name": "Glue PySpark (SparkAnalytics 2.0)",
   "language": "python",
   "name": "conda-env-sm_glue_is-glue_pyspark__SAGEMAKER_INTERNAL__arn:aws:sagemaker:eu-west-1:470317259841:image/sagemaker-sparkanalytics-310-v1"
  },
  "language_info": {
   "codemirror_mode": {
    "name": "python",
    "version": 3
   },
   "file_extension": ".py",
   "mimetype": "text/x-python",
   "name": "Python_Glue_Session",
   "pygments_lexer": "python3"
  }
 },
 "nbformat": 4,
 "nbformat_minor": 5
}
